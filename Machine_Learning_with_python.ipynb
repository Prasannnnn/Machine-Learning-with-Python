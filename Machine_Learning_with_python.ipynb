{
  "nbformat": 4,
  "nbformat_minor": 0,
  "metadata": {
    "colab": {
      "provenance": [],
      "authorship_tag": "ABX9TyMf3xZ53by3WB7GWJs+utT9",
      "include_colab_link": true
    },
    "kernelspec": {
      "name": "python3",
      "display_name": "Python 3"
    },
    "language_info": {
      "name": "python"
    }
  },
  "cells": [
    {
      "cell_type": "markdown",
      "metadata": {
        "id": "view-in-github",
        "colab_type": "text"
      },
      "source": [
        "<a href=\"https://colab.research.google.com/github/Prasannnnn/Machine-Learning-with-Python/blob/main/Machine_Learning_with_python.ipynb\" target=\"_parent\"><img src=\"https://colab.research.google.com/assets/colab-badge.svg\" alt=\"Open In Colab\"/></a>"
      ]
    },
    {
      "cell_type": "markdown",
      "source": [
        "Python is an dynamic language"
      ],
      "metadata": {
        "id": "b1BtZzKGsl3A"
      }
    },
    {
      "cell_type": "code",
      "execution_count": 15,
      "metadata": {
        "colab": {
          "base_uri": "https://localhost:8080/"
        },
        "id": "WWc_W4DRSkdw",
        "outputId": "b9c427ed-6b52-4406-dd5d-d8bde06c4143"
      },
      "outputs": [
        {
          "output_type": "stream",
          "name": "stdout",
          "text": [
            "5\n",
            "Only thing make this day is better ice cream\n",
            "50\n"
          ]
        }
      ],
      "source": [
        "a = \"Only thing make this day is better ice cream\"\n",
        "\n",
        "b = 5\n",
        "print(b)\n",
        "print(a)\n",
        "print(waterbottle)"
      ]
    },
    {
      "cell_type": "code",
      "source": [
        "water1 = 20\n",
        "water2 = 30\n",
        "waterbottle = water1 + water2\n",
        "waterdiff = water1 - water2\n",
        "print(waterbottle)\n",
        "print(water2)\n",
        "print(waterdiff)"
      ],
      "metadata": {
        "colab": {
          "base_uri": "https://localhost:8080/"
        },
        "id": "ZMu6LBK3TBhr",
        "outputId": "a9c3c16f-bf6b-4683-c8be-92e2204a663f"
      },
      "execution_count": 14,
      "outputs": [
        {
          "output_type": "stream",
          "name": "stdout",
          "text": [
            "50\n",
            "30\n",
            "-10\n"
          ]
        }
      ]
    },
    {
      "cell_type": "code",
      "source": [],
      "metadata": {
        "id": "1iwYLHb3SxYV"
      },
      "execution_count": 2,
      "outputs": []
    },
    {
      "cell_type": "code",
      "source": [],
      "metadata": {
        "id": "JQl45qT1S-oi"
      },
      "execution_count": null,
      "outputs": []
    }
  ]
}